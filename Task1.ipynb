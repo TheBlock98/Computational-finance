{
  "cells": [
    {
      "cell_type": "markdown",
      "metadata": {
        "id": "ZLU2VcaT9gUQ"
      },
      "source": [
        "**Obbiettivo:**\n",
        "\n",
        "- estrarre  le tabelle in zip  dalla struttura ad albero mantenendone la struttura ad albero nella cartella output salvandoli in **CSV**\n",
        "\n",
        "- agregare per **symbol** e successivamente  per **giorno** calcolandone **IV** e **Expired Data**"
      ]
    },
    {
      "cell_type": "code",
      "execution_count": null,
      "metadata": {
        "id": "HVYCs7kurgkB"
      },
      "outputs": [],
      "source": [
        "  # this should display information about available GPUs!nvidia-smi"
      ]
    },
    {
      "cell_type": "code",
      "execution_count": null,
      "metadata": {
        "id": "ACnxa8PlrkTS"
      },
      "outputs": [],
      "source": [
        "  # this should work without any errors"
      ]
    },
    {
      "cell_type": "code",
      "execution_count": null,
      "metadata": {
        "id": "IG20logCrpKB"
      },
      "outputs": [],
      "source": []
    },
    {
      "cell_type": "code",
      "execution_count": null,
      "metadata": {
        "id": "B7Fk695XvyAT"
      },
      "outputs": [],
      "source": []
    },
    {
      "cell_type": "code",
      "execution_count": null,
      "metadata": {
        "colab": {
          "base_uri": "https://localhost:8080/"
        },
        "id": "25wd6_Ae9fa-",
        "outputId": "af53c196-81a7-4631-bfca-f44b448d40ce"
      },
      "outputs": [
        {
          "output_type": "stream",
          "name": "stdout",
          "text": [
            "Mounted at /content/drive\n"
          ]
        }
      ],
      "source": [
        "\n",
        "import os\n",
        "import zipfile\n",
        "import pandas as pd\n",
        "\n"
      ]
    },
    {
      "cell_type": "markdown",
      "metadata": {
        "id": "t1ITptajAknU"
      },
      "source": [
        "# Extraction data"
      ]
    },
    {
      "cell_type": "code",
      "execution_count": null,
      "metadata": {
        "colab": {
          "base_uri": "https://localhost:8080/"
        },
        "id": "GsvOlp1K6Lr0",
        "outputId": "f104b170-4d00-49a3-e44f-0c567ad71111"
      },
      "outputs": [
        {
          "name": "stdout",
          "output_type": "stream",
          "text": [
            "Extracted: /content/drive/MyDrive/Bogdan/Fondo/client_d474/fut_opt_taq_1min/2020/20200301/WB2/WB2H0.zip\n",
            "Extracted: /content/drive/MyDrive/Bogdan/Fondo/client_d474/fut_opt_taq_1min/2020/20200301/LO3/LO3H0.zip\n",
            "Extracted: /content/drive/MyDrive/Bogdan/Fondo/client_d474/fut_opt_taq_1min/2020/20200301/LO2/LO2H0.zip\n",
            "Extracted: /content/drive/MyDrive/Bogdan/Fondo/client_d474/fut_opt_taq_1min/2020/20200301/LO1/LO1H0.zip\n",
            "Extracted: /content/drive/MyDrive/Bogdan/Fondo/client_d474/fut_opt_taq_1min/2020/20200301/OG4/OG4H0.zip\n",
            "Extracted: /content/drive/MyDrive/Bogdan/Fondo/client_d474/fut_opt_taq_1min/2020/20200301/OG1/OG1H0.zip\n",
            "Extracted: /content/drive/MyDrive/Bogdan/Fondo/client_d474/fut_opt_taq_1min/2020/20200301/OG3/OG3H0.zip\n",
            "Extracted: /content/drive/MyDrive/Bogdan/Fondo/client_d474/fut_opt_taq_1min/2020/20200301/ZB2/ZB2H0.zip\n",
            "Extracted: /content/drive/MyDrive/Bogdan/Fondo/client_d474/fut_opt_taq_1min/2020/20200301/OZB/OZBM0.zip\n",
            "Extracted: /content/drive/MyDrive/Bogdan/Fondo/client_d474/fut_opt_taq_1min/2020/20200301/OZB/OZBK0.zip\n",
            "Extracted: /content/drive/MyDrive/Bogdan/Fondo/client_d474/fut_opt_taq_1min/2020/20200301/WB1/WB1H0.zip\n",
            "Extracted: /content/drive/MyDrive/Bogdan/Fondo/client_d474/fut_opt_taq_1min/2020/20200301/OG2/OG2H0.zip\n",
            "Extracted: /content/drive/MyDrive/Bogdan/Fondo/client_d474/fut_opt_taq_1min/2020/20200301/ZB1/ZB1H0.zip\n",
            "Extracted: /content/drive/MyDrive/Bogdan/Fondo/client_d474/fut_opt_taq_1min/2020/20200301/OZB/OZBJ0.zip\n",
            "Extracted: /content/drive/MyDrive/Bogdan/Fondo/client_d474/fut_opt_taq_1min/2020/20200301/OG/OGV0.zip\n",
            "Extracted: /content/drive/MyDrive/Bogdan/Fondo/client_d474/fut_opt_taq_1min/2020/20200301/OG/OGN0.zip\n",
            "Extracted: /content/drive/MyDrive/Bogdan/Fondo/client_d474/fut_opt_taq_1min/2020/20200301/OG/OGZ0.zip\n",
            "Extracted: /content/drive/MyDrive/Bogdan/Fondo/client_d474/fut_opt_taq_1min/2020/20200301/OG/OGU0.zip\n",
            "Extracted: /content/drive/MyDrive/Bogdan/Fondo/client_d474/fut_opt_taq_1min/2020/20200301/OG/OGK0.zip\n",
            "Extracted: /content/drive/MyDrive/Bogdan/Fondo/client_d474/fut_opt_taq_1min/2020/20200301/OG/OGJ0.zip\n",
            "Extracted: /content/drive/MyDrive/Bogdan/Fondo/client_d474/fut_opt_taq_1min/2020/20200301/OG/OGM0.zip\n",
            "Extracted: /content/drive/MyDrive/Bogdan/Fondo/client_d474/fut_opt_taq_1min/2020/20200301/OG/OGX0.zip\n",
            "Extracted: /content/drive/MyDrive/Bogdan/Fondo/client_d474/fut_opt_taq_1min/2020/20200301/OG/OGQ0.zip\n",
            "Extracted: /content/drive/MyDrive/Bogdan/Fondo/client_d474/fut_opt_taq_1min/2020/20200301/LO/LOZ1.zip\n",
            "Extracted: /content/drive/MyDrive/Bogdan/Fondo/client_d474/fut_opt_taq_1min/2020/20200301/LO/LOM1.zip\n",
            "Extracted: /content/drive/MyDrive/Bogdan/Fondo/client_d474/fut_opt_taq_1min/2020/20200301/LO/LOX0.zip\n",
            "Extracted: /content/drive/MyDrive/Bogdan/Fondo/client_d474/fut_opt_taq_1min/2020/20200301/LO/LOH1.zip\n",
            "Extracted: /content/drive/MyDrive/Bogdan/Fondo/client_d474/fut_opt_taq_1min/2020/20200301/LO/LOV0.zip\n",
            "Extracted: /content/drive/MyDrive/Bogdan/Fondo/client_d474/fut_opt_taq_1min/2020/20200301/LO/LOU0.zip\n",
            "Extracted: /content/drive/MyDrive/Bogdan/Fondo/client_d474/fut_opt_taq_1min/2020/20200301/LO/LOZ0.zip\n",
            "Extracted: /content/drive/MyDrive/Bogdan/Fondo/client_d474/fut_opt_taq_1min/2020/20200301/LO/LOK0.zip\n",
            "Extracted: /content/drive/MyDrive/Bogdan/Fondo/client_d474/fut_opt_taq_1min/2020/20200301/LO/LON0.zip\n",
            "Extracted: /content/drive/MyDrive/Bogdan/Fondo/client_d474/fut_opt_taq_1min/2020/20200301/LO/LOQ0.zip\n",
            "Extracted: /content/drive/MyDrive/Bogdan/Fondo/client_d474/fut_opt_taq_1min/2020/20200301/LO/LOJ0.zip\n",
            "Extracted: /content/drive/MyDrive/Bogdan/Fondo/client_d474/fut_opt_taq_1min/2020/20200301/LO/LOM0.zip\n"
          ]
        }
      ],
      "source": [
        "\"\"\"import os\n",
        "import zipfile\n",
        "\n",
        "\n",
        "# qui c'è da metter mano e usare la programmazione multhi tread\n",
        "\n",
        "\n",
        "base_path = #?\n",
        "data_dir = os.path.join(base_path, 'fut_opt_taq_1min/2020')\n",
        "dest_folder = os.path.join(base_path, 'output')\n",
        "bad_list = []\n",
        "\n",
        "# Cambia directory\n",
        "os.chdir(data_dir)\n",
        "\n",
        "# Itera attraverso tutte le directory e sottodirectory\n",
        "for root, dirs, files in os.walk(data_dir):\n",
        "    for file in files:\n",
        "        if file.endswith('.zip'):\n",
        "            file_path = os.path.join(root, file)\n",
        "            try:\n",
        "                with zipfile.ZipFile(file_path, 'r') as zip_ref:\n",
        "                    # Crea la destinazione mantenendo la struttura delle cartelle\n",
        "                    extract_path = os.path.join(dest_folder, os.path.relpath(root, data_dir))\n",
        "                    os.makedirs(extract_path, exist_ok=True)\n",
        "                    zip_ref.extractall(extract_path)\n",
        "            except Exception as e:\n",
        "                print(f\"Error extracting {file_path}: {e}\")\n",
        "                bad_list.append(file_path)\n",
        "\n",
        "# Stampa i file che non sono stati estratti correttamente\n",
        "if bad_list:\n",
        "    print(\"Files not extracted:\")\n",
        "    for bad_file in bad_list:\n",
        "        print(bad_file)\"\"\"\n",
        "\n",
        "# versione multi thread\n",
        "import os\n",
        "import zipfile\n",
        "from concurrent.futures import ThreadPoolExecutor\n",
        "\n",
        "base_path = #?\n",
        "data_dir = os.path.join(base_path, 'fut_opt_taq_1min/2020')\n",
        "dest_folder = os.path.join(base_path, 'output')\n",
        "bad_list = []\n",
        "\n",
        "def extract_zip(file_path):\n",
        "    try:\n",
        "        with zipfile.ZipFile(file_path, 'r') as zip_ref:\n",
        "            # Crea la destinazione mantenendo la struttura delle cartelle nella cartella output\n",
        "            extract_path = os.path.join(dest_folder, os.path.relpath(os.path.dirname(file_path), data_dir))\n",
        "            os.makedirs(extract_path, exist_ok=True)\n",
        "            zip_ref.extractall(extract_path)\n",
        "        print(f\"Extracted: {file_path}\")\n",
        "    except Exception as e:\n",
        "        print(f\"Error extracting {file_path}: {e}\")\n",
        "        bad_list.append(file_path)\n",
        "\n",
        "def main():\n",
        "    # change directory\n",
        "    os.chdir(data_dir)\n",
        "\n",
        "    zip_files = []\n",
        "    # Iteriamo attraverso tutte le directory e sottodirectory\n",
        "    for root, dirs, files in os.walk(data_dir):\n",
        "        for file in files:\n",
        "            if file.endswith('.zip'):\n",
        "                zip_files.append(os.path.join(root, file))\n",
        "\n",
        "    # Usiamo il multithreading per estrarre i file ZIP\n",
        "    with ThreadPoolExecutor() as executor:\n",
        "        executor.map(extract_zip, zip_files)\n",
        "\n",
        "\n",
        "    if bad_list:\n",
        "        print(\"Files not extracted:\")\n",
        "        for bad_file in bad_list:\n",
        "            print(bad_file)\n",
        "\n",
        "if __name__ == \"__main__\":\n",
        "    main()\n"
      ]
    },
    {
      "cell_type": "code",
      "execution_count": null,
      "metadata": {
        "id": "XfJ80hNTreZ0"
      },
      "outputs": [],
      "source": []
    },
    {
      "cell_type": "code",
      "execution_count": null,
      "metadata": {
        "id": "3EutjSGLlU7s"
      },
      "outputs": [],
      "source": [
        "import pandas as pd\n",
        "from datetime import datetime, timedelta\n",
        "import calendar\n",
        "\n",
        "# Dizionari modificati ma mancano dei casi es OGJ,LO ecc\n",
        "\n",
        "\n",
        "underlyings = {\n",
        "    'LO': {'underlying': 'oil','expiry_desc':{\n",
        "    'LO' : 'standard',\n",
        "    'ML1': '1st mon', 'ML2': '2nd mon', 'ML3': '3rd mon', 'ML4': '4th mon', 'ML5': '5th mon',\n",
        "    'WL1': '1st wed', 'WL2': '2nd wed', 'WL3': '3rd wed', 'WL4': '4th wed', 'WL5': '5th wed',\n",
        "    'LO1': '1st fr', 'LO2': '2nd fr', 'LO3': '3rd fr', 'LO4': '4th fr', 'LO5': '5th fr'\n",
        "    }},\n",
        "\n",
        "    'OG': {'underlying': 'gold','expiry_desc':{\n",
        "    'OG':  'standard',\n",
        "    'G1M': '1st mon', 'G2M': '2nd mon', 'G3M': '3rd mon', 'G4M': '4th mon', 'G5M': '5th mon',\n",
        "    'G1T': '1st tue', 'G2T': '2nd tue', 'G3T': '3rd tue', 'G4T': '4th tue', 'G5T': '5th tue',\n",
        "    'G1W': '1st wed', 'G2W': '2nd wed', 'G3W': '3rd wed', 'G4W': '4th wed', 'G5W': '5th wed',\n",
        "    'G1R': '1st thu', 'G2R': '2nd thu', 'G3R': '3rd thu', 'G4R': '4th thu', 'G5R': '5th thu',\n",
        "    'OG1': '1st fri', 'OG2': '2nd fri', 'OG3': '3rd fri', 'OG4': '4th fri', 'OG5': '5th fri'\n",
        "    }},\n",
        "\n",
        "    'OZB': {'underlying': 'treasury','expiry_desc':{\n",
        "    'OZB'  : 'standard',\n",
        "    'VB1': '1st mon', 'VB2': '2nd mon', 'VB3': '3rd mon', 'VB4': '4th mon', 'VB5': '5th mon',\n",
        "    'WB1': '1st wed', 'WB2': '2nd wed', 'WB3': '3rd wed', 'WB4': '4th wed', 'WB5': '5th wed',\n",
        "    'ZB1': '1st fri', 'ZB2': '2nd fri', 'ZB3': '3rd fri', 'ZB4': '4th fri', 'ZB5': '5th fri'\n",
        "    }}\n",
        "}"
      ]
    },
    {
      "cell_type": "code",
      "execution_count": null,
      "metadata": {
        "id": "RHm45Q7YzkM9"
      },
      "outputs": [],
      "source": []
    },
    {
      "cell_type": "code",
      "execution_count": null,
      "metadata": {
        "colab": {
          "base_uri": "https://localhost:8080/"
        },
        "id": "1Fgi4X8w9di9",
        "outputId": "4b6faafb-7f2b-427e-ac3f-f3ba902f4c39"
      },
      "outputs": [
        {
          "output_type": "stream",
          "name": "stdout",
          "text": [
            "Error: invalid literal for int() with base 10: 's'\n",
            "symbol: OG\n",
            "symbolName: gold\n",
            "optionClass: OG\n",
            "strike: 1350\n",
            "side: C\n",
            "expiry_date: 2020-03-30 00:00:00\n"
          ]
        }
      ],
      "source": [
        "\n",
        "months = {'Jan':'F','Feb':'G','Mar':'H','Apr':'J','May':'K','Jun':'M','Jul':'N','Aug':'Q','Sep':'U','Oct':'V','Nov':'X','Dec':'Z'}\n",
        "reverse_months = {v: k for k, v in months.items()}\n",
        "\n",
        "# Funzioni per trovare le date specifiche\n",
        "def nth_weekday(year, month, weekday, n):\n",
        "    first_day = datetime(year, month, 1)\n",
        "    # Handle the case where weekday is None\n",
        "    if weekday is None:\n",
        "        return None  # Or raise an error, or choose a default weekday\n",
        "    first_weekday = first_day + timedelta(days=(weekday - first_day.weekday() + 7) % 7)\n",
        "    return first_weekday + timedelta(weeks=(n-1))\n",
        "\n",
        "# STABILIRE UNA POLICY DI COMPORTAMENTO QUANDO NON CI SONO LE CORRISPONDENZE\n",
        "# complex O(n) --> complessità data da grandezza dizionario esterno passiamo da O(n^2) a O(n)\n",
        "def find_underlying_and_key(lookup_key):\n",
        "    for underlying, codes in underlyings.items():\n",
        "        if lookup_key in codes['expiry_desc']: # più efficiente perchè facciamo solo 1 for e un ingresso diretto quindi non abbiamo un o(n^2) ma un o(n)\n",
        "            return underlying, codes['underlying'], codes['expiry_desc'][lookup_key]\n",
        "    return None, None, None\n",
        "\n",
        "\n",
        "# complex O(1) --> complessità costante\n",
        "def optCodeDecode(optCode):\n",
        "  monthPlus = optCode[-2:] # new column\n",
        "  monthCode = monthPlus[0]\n",
        "  monthName = reverse_months[monthPlus[0]]\n",
        "  optionClass = optCode[:-2]\n",
        "#  print(f\"underlying_code: {optionClass}\")\n",
        "  underlying, symbolName,expDate = find_underlying_and_key(optionClass)\n",
        "#  print(f\"underlying: {underlying}\")\n",
        "#  print(f\"symbolName: {symbolName}\")\n",
        "#  print(f\"expDate: {expDate}\")\n",
        "  # Decodifica del mese\n",
        "  month_str = reverse_months[monthCode]\n",
        "  month = list(months.keys()).index(month_str) + 1\n",
        "  #print(f\"month: {month} month_str: {month_str}\")\n",
        "#  print(f\"desc: {expDate}\")\n",
        "  try:\n",
        "    if expDate is None:\n",
        "        raise ValueError(\"No matching key found in the dictionary\")\n",
        "    else:\n",
        "        if 'mon' in expDate:\n",
        "            weekday = 0\n",
        "        elif 'tue' in expDate:\n",
        "            weekday = 1\n",
        "        elif 'wed' in expDate:\n",
        "            weekday = 2\n",
        "        elif 'thu' in expDate:\n",
        "            weekday = 3\n",
        "        elif 'fri' in expDate:\n",
        "            weekday = 4\n",
        "        else:\n",
        "            weekday = 0  # Default to monday\n",
        "        n = int(expDate.split()[0][0])\n",
        "  except ValueError as e:\n",
        "     print(f\"Error: {e}\")\n",
        "     weekday = 0\n",
        "     n = 0\n",
        "\n",
        "\n",
        "#  print(f\"weekday: {weekday} n: {n}\")\n",
        "\n",
        "  expiry_date = nth_weekday(year, month, weekday, n)\n",
        "#  print(f\"expiry_date: {expiry_date}\")\n",
        "  return monthPlus, monthCode,monthName,optionClass,underlying,symbolName,expDate,expiry_date\n",
        "\n",
        "\n",
        "# complex O(1) --> complessità costante\n",
        "def decode_ticker(ticker, year):\n",
        "  optCode = ticker.split(' ')[0]\n",
        "  sideStrike = ticker.split(' ')[1]\n",
        "  side = sideStrike[0]\n",
        "  strike = sideStrike[1:]\n",
        "#  print(f\"pt1 : {optCode}\")\n",
        "#  print(f\"pt2 : {sideStrike}\")\n",
        "#  print(f\"side : {side}\")\n",
        "#  print(f\"strike : {strike}\")\n",
        "  monthPlus,monthCode,monthName,optionClass,symbol,symbolName,expDate,expiry_date = optCodeDecode(optCode)\n",
        "  return symbol,symbolName,optionClass,strike,side,expiry_date\n",
        "\n",
        "# Esempio di utilizzo funzione di decodifica\n",
        "ticker = \"OGJ0 C1350\"\n",
        "year = 2020\n",
        "symbol,symbolName,optionClass,strike,side,expiry_date = decode_ticker(ticker, year)\n",
        "print(f\"symbol: {symbol}\")\n",
        "print(f\"symbolName: {symbolName}\")\n",
        "print(f\"optionClass: {optionClass}\")\n",
        "print(f\"strike: {strike}\")\n",
        "print(f\"side: {side}\")\n",
        "print(f\"expiry_date: {expiry_date}\")\n"
      ]
    },
    {
      "cell_type": "code",
      "execution_count": null,
      "metadata": {
        "colab": {
          "base_uri": "https://localhost:8080/",
          "height": 211
        },
        "id": "-V_ewUS6Wroc",
        "outputId": "c6a1b2e7-0b25-4cc1-f638-731bbff97d9d"
      },
      "outputs": [
        {
          "output_type": "error",
          "ename": "FileNotFoundError",
          "evalue": "[Errno 2] No such file or directory: '/content/drive/MyDrive/Bogdan/Fondo/client_d474/fut_opt_taq_1min/2020'",
          "traceback": [
            "\u001b[0;31m---------------------------------------------------------------------------\u001b[0m",
            "\u001b[0;31mFileNotFoundError\u001b[0m                         Traceback (most recent call last)",
            "\u001b[0;32m<ipython-input-17-8cfe4a72f297>\u001b[0m in \u001b[0;36m<cell line: 42>\u001b[0;34m()\u001b[0m\n\u001b[1;32m     40\u001b[0m \u001b[0mdf_list\u001b[0m \u001b[0;34m=\u001b[0m \u001b[0;34m[\u001b[0m\u001b[0;34m]\u001b[0m\u001b[0;34m\u001b[0m\u001b[0;34m\u001b[0m\u001b[0m\n\u001b[1;32m     41\u001b[0m \u001b[0;34m\u001b[0m\u001b[0m\n\u001b[0;32m---> 42\u001b[0;31m \u001b[0mos\u001b[0m\u001b[0;34m.\u001b[0m\u001b[0mchdir\u001b[0m\u001b[0;34m(\u001b[0m\u001b[0mdata_dir\u001b[0m\u001b[0;34m)\u001b[0m\u001b[0;34m\u001b[0m\u001b[0;34m\u001b[0m\u001b[0m\n\u001b[0m\u001b[1;32m     43\u001b[0m \u001b[0;34m\u001b[0m\u001b[0m\n\u001b[1;32m     44\u001b[0m \u001b[0mfile_paths\u001b[0m \u001b[0;34m=\u001b[0m \u001b[0;34m[\u001b[0m\u001b[0;34m]\u001b[0m\u001b[0;34m\u001b[0m\u001b[0;34m\u001b[0m\u001b[0m\n",
            "\u001b[0;31mFileNotFoundError\u001b[0m: [Errno 2] No such file or directory: '/content/drive/MyDrive/Bogdan/Fondo/client_d474/fut_opt_taq_1min/2020'"
          ]
        }
      ],
      "source": [
        "from tqdm import tqdm\n",
        "\n",
        "def display_progress(iterable, total):\n",
        "    with tqdm(total=total) as pbar:\n",
        "        for item in iterable:\n",
        "            yield item\n",
        "            pbar.update(1)\n",
        "\n",
        "# con l'uso dei thread si riesce a passare da 8 min a 5 min di esecuzione 37.5% di ottimizzazione!\n",
        "def process_file(file_path):\n",
        "    try:\n",
        "        data = pd.read_csv(file_path)\n",
        "    except Exception as e:\n",
        "        print(f\"Error reading {file_path}: {e}\")\n",
        "        return None\n",
        "    results = []\n",
        "    for index, row in data.iterrows():\n",
        "        symbol, symbolName, optionClass, strike, side, expiry_date = decode_ticker(row['Ticker'], 2020)\n",
        "        results.append({\n",
        "            'Symbol': symbol,\n",
        "            'Underlying': symbolName,\n",
        "            'Option Class': optionClass,\n",
        "            'Strike': strike,\n",
        "            'Side': side,\n",
        "            'Expiry Date': expiry_date\n",
        "        })\n",
        "    results_df = pd.DataFrame(results)\n",
        "    results_df['Ask'] = data['CloseAskPrice']\n",
        "    results_df['Bid'] = data['CloseBidPrice']\n",
        "    results_df['Min_spread'] = data['LowBidPrice'] - data['LowAskPrice']\n",
        "    results_df['Max_spread'] = data['HighBidPrice'] - data['HighAskPrice']\n",
        "    results_df['Volume/Trades'] = data['Volume'] / data['TotalTrades']\n",
        "    # results_df['IV'] = results_df.apply(calculate_iv, axis=1)\n",
        "    print(f\"Processed {file_path}\")\n",
        "    return results_df\n",
        "\n",
        "base_path = '/content/drive/MyDrive/Bogdan/Fondo/client_d474'\n",
        "data_dir = os.path.join(base_path, 'fut_opt_taq_1min/2020')\n",
        "dest_folder = os.path.join(base_path, 'output')\n",
        "df_list = []\n",
        "\n",
        "os.chdir(data_dir)\n",
        "\n",
        "file_paths = []\n",
        "for root, dirs, files in os.walk(dest_folder):\n",
        "    for file in files:\n",
        "        if file.endswith('.csv'):\n",
        "            file_paths.append(os.path.join(root, file))\n",
        "\n",
        "with ThreadPoolExecutor(max_workers=os.cpu_count()) as executor:\n",
        "    number_of_workers = os.cpu_count()  # Number of available CPU cores\n",
        "    results = list(display_progress(executor.map(process_file, file_paths), total=len(file_paths)))\n",
        "\n",
        "\n",
        "# Rimuovi i risultati None\n",
        "df_list = [result for result in results if result is not None]\n",
        "\n",
        "# Concatenare tutti i dataframe in uno solo\n",
        "final_df = pd.concat(df_list, ignore_index=True)\n",
        "\n",
        "print(final_df.head())"
      ]
    },
    {
      "cell_type": "code",
      "execution_count": null,
      "metadata": {
        "colab": {
          "base_uri": "https://localhost:8080/"
        },
        "id": "1amYEuPROzed",
        "outputId": "a825516e-85ba-49df-8ba9-89c5164e5f5d"
      },
      "outputs": [
        {
          "output_type": "stream",
          "name": "stdout",
          "text": [
            "Error: invalid literal for int() with base 10: 's'\n",
            "symbol: OG\n",
            "symbolName: gold\n",
            "optionClass: OG\n",
            "strike: 1350\n",
            "side: C\n",
            "expiry_date: 2020-03-30 00:00:00\n"
          ]
        }
      ],
      "source": [
        "import pandas as pd\n",
        "from datetime import datetime, timedelta\n",
        "import calendar\n",
        "\n",
        "months = {'Jan':'F','Feb':'G','Mar':'H','Apr':'J','May':'K','Jun':'M','Jul':'N','Aug':'Q','Sep':'U','Oct':'V','Nov':'X','Dec':'Z'}\n",
        "reverse_months = {v: k for k, v in months.items()}\n",
        "\n",
        "underlyings = {\n",
        "    'LO': {'underlying': 'oil','expiry_desc':{\n",
        "    'LO' : 'standard',\n",
        "    'ML1': '1st mon', 'ML2': '2nd mon', 'ML3': '3rd mon', 'ML4': '4th mon', 'ML5': '5th mon',\n",
        "    'WL1': '1st wed', 'WL2': '2nd wed', 'WL3': '3rd wed', 'WL4': '4th wed', 'WL5': '5th wed',\n",
        "    'LO1': '1st fr', 'LO2': '2nd fr', 'LO3': '3rd fr', 'LO4': '4th fr', 'LO5': '5th fr'\n",
        "    }},\n",
        "\n",
        "    'OG': {'underlying': 'gold','expiry_desc':{\n",
        "    'OG':  'standard',\n",
        "    'G1M': '1st mon', 'G2M': '2nd mon', 'G3M': '3rd mon', 'G4M': '4th mon', 'G5M': '5th mon',\n",
        "    'G1T': '1st tue', 'G2T': '2nd tue', 'G3T': '3rd tue', 'G4T': '4th tue', 'G5T': '5th tue',\n",
        "    'G1W': '1st wed', 'G2W': '2nd wed', 'G3W': '3rd wed', 'G4W': '4th wed', 'G5W': '5th wed',\n",
        "    'G1R': '1st thu', 'G2R': '2nd thu', 'G3R': '3rd thu', 'G4R': '4th thu', 'G5R': '5th thu',\n",
        "    'OG1': '1st fri', 'OG2': '2nd fri', 'OG3': '3rd fri', 'OG4': '4th fri', 'OG5': '5th fri'\n",
        "    }},\n",
        "\n",
        "    'OZB': {'underlying': 'treasury','expiry_desc':{\n",
        "    'OZB'  : 'standard',\n",
        "    'VB1': '1st mon', 'VB2': '2nd mon', 'VB3': '3rd mon', 'VB4': '4th mon', 'VB5': '5th mon',\n",
        "    'WB1': '1st wed', 'WB2': '2nd wed', 'WB3': '3rd wed', 'WB4': '4th wed', 'WB5': '5th wed',\n",
        "    'ZB1': '1st fri', 'ZB2': '2nd fri', 'ZB3': '3rd fri', 'ZB4': '4th fri', 'ZB5': '5th fri'\n",
        "    }}\n",
        "}\n",
        "\n",
        "\n",
        "\n",
        "class CSVProcessor2:\n",
        "  def __init__(self, underlyings, months):\n",
        "    self.underlyings = underlyings\n",
        "    self.months = months\n",
        "\n",
        "# Funzioni per trovare le date specifiche\n",
        "  def nth_weekday(self,year, month, weekday, n):\n",
        "    first_day = datetime(year, month, 1)\n",
        "    # Handle the case where weekday is None\n",
        "    if weekday is None:\n",
        "        return None  # Or raise an error, or choose a default weekday\n",
        "    first_weekday = first_day + timedelta(days=(weekday - first_day.weekday() + 7) % 7)\n",
        "    return first_weekday + timedelta(weeks=(n-1))\n",
        "\n",
        "# STABILIRE UNA POLICY DI COMPORTAMENTO QUANDO NON CI SONO LE CORRISPONDENZE\n",
        "# complex O(n) --> complessità data da grandezza dizionario esterno passiamo da O(n^2) a O(n)\n",
        "  def find_underlying_and_key(self,lookup_key):\n",
        "    for underlying, codes in underlyings.items():\n",
        "        if lookup_key in codes['expiry_desc']: # più efficiente perchè facciamo solo 1 for e un ingresso diretto quindi non abbiamo un o(n^2) ma un o(n)\n",
        "            return underlying, codes['underlying'], codes['expiry_desc'][lookup_key]\n",
        "    return None, None, None\n",
        "\n",
        "\n",
        "# complex O(1) --> complessità costante\n",
        "  def optCodeDecode(self,optCode):\n",
        "    monthPlus = optCode[-2:] # new column\n",
        "    monthCode = monthPlus[0]\n",
        "    monthName = reverse_months[monthPlus[0]]\n",
        "    optionClass = optCode[:-2]\n",
        "#  print(f\"underlying_code: {optionClass}\")\n",
        "    underlying, symbolName,expDate = self.find_underlying_and_key(optionClass)\n",
        "#  print(f\"underlying: {underlying}\")\n",
        "#  print(f\"symbolName: {symbolName}\")\n",
        "#  print(f\"expDate: {expDate}\")\n",
        "# Decodifica del mese\n",
        "    month_str = reverse_months[monthCode]\n",
        "    month = list(months.keys()).index(month_str) + 1\n",
        "  #print(f\"month: {month} month_str: {month_str}\")\n",
        "#  print(f\"desc: {expDate}\")\n",
        "    try:\n",
        "      if expDate is None:\n",
        "          raise ValueError(\"No matching key found in the dictionary\")\n",
        "      else:\n",
        "          if 'mon' in expDate:\n",
        "            weekday = 0\n",
        "          elif 'tue' in expDate:\n",
        "            weekday = 1\n",
        "          elif 'wed' in expDate:\n",
        "            weekday = 2\n",
        "          elif 'thu' in expDate:\n",
        "            weekday = 3\n",
        "          elif 'fri' in expDate:\n",
        "            weekday = 4\n",
        "          else:\n",
        "            weekday = 0  # Default to monday\n",
        "          n = int(expDate.split()[0][0])\n",
        "    except ValueError as e:\n",
        "     print(f\"Error: {e}\")\n",
        "     weekday = 0\n",
        "     n = 0\n",
        "#  print(f\"weekday: {weekday} n: {n}\")\n",
        "\n",
        "    expiry_date = self.nth_weekday(year, month, weekday, n)\n",
        "#  print(f\"expiry_date: {expiry_date}\")\n",
        "    return monthPlus, monthCode,monthName,optionClass,underlying,symbolName,expDate,expiry_date\n",
        "\n",
        "\n",
        "# complex O(1) --> complessità costante\n",
        "  def decode_ticker(self,ticker, year):\n",
        "    optCode = ticker.split(' ')[0]\n",
        "    sideStrike = ticker.split(' ')[1]\n",
        "    side = sideStrike[0]\n",
        "    strike = sideStrike[1:]\n",
        "#  print(f\"pt1 : {optCode}\")\n",
        "#  print(f\"pt2 : {sideStrike}\")\n",
        "#  print(f\"side : {side}\")\n",
        "#  print(f\"strike : {strike}\")\n",
        "    monthPlus,monthCode,monthName,optionClass,symbol,symbolName,expDate,expiry_date = self.optCodeDecode(optCode)\n",
        "    return symbol,symbolName,optionClass,strike,side,expiry_date\n",
        "\n",
        "  def process_file(self,file_path):\n",
        "    try:\n",
        "        data = pd.read_csv(file_path)\n",
        "    except Exception as e:\n",
        "        print(f\"Error reading {file_path}: {e}\")\n",
        "        return None\n",
        "    results = []\n",
        "    for index, row in data.iterrows():\n",
        "        symbol,symbolName,optionClass,strike,side,expiry_date = decode_ticker(row['Ticker'], 2020)\n",
        "        results.append({\n",
        "            'Symbol': symbol,\n",
        "            'Underlying': symbolName,\n",
        "            'Option Class': optionClass,\n",
        "            'Strike': strike,\n",
        "            'Side': side,\n",
        "            'Expiry Date': expiry_date\n",
        "        })\n",
        "    results_df = pd.DataFrame(results)\n",
        "    results_df['Ask'] = data['CloseAskPrice']\n",
        "    results_df['Bid'] = data['CloseBidPrice']\n",
        "    results_df['Min_spread'] = data['LowBidPrice'] - data['LowAskPrice']\n",
        "    results_df['Max_spread'] = data['HighBidPrice'] - data['HighAskPrice']\n",
        "    results_df['Volume/Trades'] = data['Volume'] / data['TotalTrades']\n",
        "    # results_df['IV'] = results_df.apply(calculate_iv, axis=1)\n",
        "    print(f\"Processed {file_path}\")\n",
        "    return results_df\n",
        "\n",
        "\n",
        "# Esempio di utilizzo funzione di decodifica\n",
        "ticker = \"OGJ0 C1350\"\n",
        "year = 2020\n",
        "fileProcessing = CSVProcessor2(underlyings, months)\n",
        "symbol,symbolName,optionClass,strike,side,expiry_date = fileProcessing.decode_ticker(ticker, year)\n",
        "print(f\"symbol: {symbol}\")\n",
        "print(f\"symbolName: {symbolName}\")\n",
        "print(f\"optionClass: {optionClass}\")\n",
        "print(f\"strike: {strike}\")\n",
        "print(f\"side: {side}\")\n",
        "print(f\"expiry_date: {expiry_date}\")\n"
      ]
    },
    {
      "cell_type": "code",
      "source": [
        "from tqdm import tqdm\n",
        "\n",
        "def display_progress(iterable, total):\n",
        "    with tqdm(total=total) as pbar:\n",
        "        for item in iterable:\n",
        "            yield item\n",
        "            pbar.update(1)"
      ],
      "metadata": {
        "id": "hhuy_mlCpcxN"
      },
      "execution_count": null,
      "outputs": []
    },
    {
      "cell_type": "code",
      "source": [
        "\n",
        "\n",
        "base_path = #?\n",
        "data_dir = os.path.join(base_path, 'fut_opt_taq_1min/2020')\n",
        "dest_folder = os.path.join(base_path, 'output')\n",
        "df_list = []\n",
        "\n",
        "\n",
        "os.chdir(data_dir)\n",
        "\n",
        "file_paths = []\n",
        "for root, dirs, files in os.walk(dest_folder):\n",
        "    for file in files:\n",
        "        if file.endswith('.csv'):\n",
        "            file_paths.append(os.path.join(root, file))\n",
        "\n",
        "with ThreadPoolExecutor(max_workers=os.cpu_count()) as executor:\n",
        "    number_of_workers = os.cpu_count()  # Number of available CPU cores\n",
        "    results = list(display_progress(executor.map(processFile.decode_ticker, file_paths), total=len(file_paths)))\n",
        "\n",
        "\n",
        "# Rimuovi i risultati None\n",
        "df_list = [result for result in results if result is not None]\n",
        "\n",
        "# Concatenare tutti i dataframe in uno solo\n",
        "final_df = pd.concat(df_list, ignore_index=True)\n",
        "\n",
        "print(final_df.head())"
      ],
      "metadata": {
        "colab": {
          "base_uri": "https://localhost:8080/",
          "height": 211
        },
        "id": "En7l_jBCphb5",
        "outputId": "75a15a6c-efdd-475b-8941-60faeed28f3d"
      },
      "execution_count": null,
      "outputs": [
        {
          "output_type": "error",
          "ename": "FileNotFoundError",
          "evalue": "[Errno 2] No such file or directory: '/content/drive/MyDrive/Bogdan/Fondo/client_d474/fut_opt_taq_1min/2020'",
          "traceback": [
            "\u001b[0;31m---------------------------------------------------------------------------\u001b[0m",
            "\u001b[0;31mFileNotFoundError\u001b[0m                         Traceback (most recent call last)",
            "\u001b[0;32m<ipython-input-20-bc7b02fd70a2>\u001b[0m in \u001b[0;36m<cell line: 7>\u001b[0;34m()\u001b[0m\n\u001b[1;32m      5\u001b[0m \u001b[0;34m\u001b[0m\u001b[0m\n\u001b[1;32m      6\u001b[0m \u001b[0;34m\u001b[0m\u001b[0m\n\u001b[0;32m----> 7\u001b[0;31m \u001b[0mos\u001b[0m\u001b[0;34m.\u001b[0m\u001b[0mchdir\u001b[0m\u001b[0;34m(\u001b[0m\u001b[0mdata_dir\u001b[0m\u001b[0;34m)\u001b[0m\u001b[0;34m\u001b[0m\u001b[0;34m\u001b[0m\u001b[0m\n\u001b[0m\u001b[1;32m      8\u001b[0m \u001b[0;34m\u001b[0m\u001b[0m\n\u001b[1;32m      9\u001b[0m \u001b[0mfile_paths\u001b[0m \u001b[0;34m=\u001b[0m \u001b[0;34m[\u001b[0m\u001b[0;34m]\u001b[0m\u001b[0;34m\u001b[0m\u001b[0;34m\u001b[0m\u001b[0m\n",
            "\u001b[0;31mFileNotFoundError\u001b[0m: [Errno 2] No such file or directory: '/content/drive/MyDrive/Bogdan/Fondo/client_d474/fut_opt_taq_1min/2020'"
          ]
        }
      ]
    },
    {
      "cell_type": "markdown",
      "metadata": {
        "id": "-wp8okdvj634"
      },
      "source": [
        "Store df for each simbol in a dict, you will be able to use data for each symbol using the name of option"
      ]
    },
    {
      "cell_type": "code",
      "execution_count": null,
      "metadata": {
        "colab": {
          "base_uri": "https://localhost:8080/",
          "height": 211
        },
        "id": "ukrkJaceirNr",
        "outputId": "6e4dd83a-8a80-49d9-857a-2818f1776f68"
      },
      "outputs": [
        {
          "ename": "NameError",
          "evalue": "name 'df' is not defined",
          "output_type": "error",
          "traceback": [
            "\u001b[0;31m---------------------------------------------------------------------------\u001b[0m",
            "\u001b[0;31mNameError\u001b[0m                                 Traceback (most recent call last)",
            "\u001b[0;32m<ipython-input-13-16cb94763a95>\u001b[0m in \u001b[0;36m<cell line: 2>\u001b[0;34m()\u001b[0m\n\u001b[1;32m      1\u001b[0m \u001b[0;31m# Raggruppa per simbolo\u001b[0m\u001b[0;34m\u001b[0m\u001b[0;34m\u001b[0m\u001b[0m\n\u001b[0;32m----> 2\u001b[0;31m \u001b[0mgrouped\u001b[0m \u001b[0;34m=\u001b[0m \u001b[0mdf\u001b[0m\u001b[0;34m.\u001b[0m\u001b[0mgroupby\u001b[0m\u001b[0;34m(\u001b[0m\u001b[0;34m'Symbol'\u001b[0m\u001b[0;34m)\u001b[0m\u001b[0;34m\u001b[0m\u001b[0;34m\u001b[0m\u001b[0m\n\u001b[0m\u001b[1;32m      3\u001b[0m \u001b[0;34m\u001b[0m\u001b[0m\n\u001b[1;32m      4\u001b[0m \u001b[0;31m# Crea un dizionario con simboli come chiavi e DataFrame come valori\u001b[0m\u001b[0;34m\u001b[0m\u001b[0;34m\u001b[0m\u001b[0m\n\u001b[1;32m      5\u001b[0m \u001b[0msymbol_dict\u001b[0m \u001b[0;34m=\u001b[0m \u001b[0;34m{\u001b[0m\u001b[0msymbol\u001b[0m\u001b[0;34m:\u001b[0m \u001b[0mgroup\u001b[0m \u001b[0;32mfor\u001b[0m \u001b[0msymbol\u001b[0m\u001b[0;34m,\u001b[0m \u001b[0mgroup\u001b[0m \u001b[0;32min\u001b[0m \u001b[0mgrouped\u001b[0m\u001b[0;34m}\u001b[0m\u001b[0;34m\u001b[0m\u001b[0;34m\u001b[0m\u001b[0m\n",
            "\u001b[0;31mNameError\u001b[0m: name 'df' is not defined"
          ]
        }
      ],
      "source": []
    },
    {
      "cell_type": "code",
      "source": [
        "from google.colab import drive\n",
        "drive.mount('/content/drive')"
      ],
      "metadata": {
        "colab": {
          "base_uri": "https://localhost:8080/"
        },
        "id": "jJGJC6-oppeg",
        "outputId": "6380c8d4-a927-43fd-9f4b-293226b7d696"
      },
      "execution_count": null,
      "outputs": [
        {
          "output_type": "stream",
          "name": "stdout",
          "text": [
            "Mounted at /content/drive\n"
          ]
        }
      ]
    },
    {
      "cell_type": "code",
      "execution_count": null,
      "metadata": {
        "id": "yAF4jAZHIFYx"
      },
      "outputs": [],
      "source": []
    },
    {
      "cell_type": "code",
      "execution_count": null,
      "metadata": {
        "id": "OVhpsWm9itH1"
      },
      "outputs": [],
      "source": [
        "\n"
      ]
    },
    {
      "cell_type": "code",
      "execution_count": null,
      "metadata": {
        "id": "nmrU7wPplw6m"
      },
      "outputs": [],
      "source": [
        "decoded_info.head()"
      ]
    }
  ],
  "metadata": {
    "accelerator": "GPU",
    "colab": {
      "gpuType": "T4",
      "provenance": []
    },
    "kernelspec": {
      "display_name": "Python 3",
      "name": "python3"
    },
    "language_info": {
      "name": "python"
    }
  },
  "nbformat": 4,
  "nbformat_minor": 0
}